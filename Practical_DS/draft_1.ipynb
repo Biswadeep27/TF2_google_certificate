{
 "cells": [
  {
   "cell_type": "markdown",
   "metadata": {},
   "source": [
    "## Iterator"
   ]
  },
  {
   "cell_type": "markdown",
   "metadata": {},
   "source": [
    "1. An iterator is an object that manages an iteration through a series of values. If\n",
    "variable, i, identifies an iterator object, then each call to the built-in function,\n",
    "next(i), produces a subsequent element from the underlying series, with a\n",
    "StopIteration exception raised to indicate that there are no further elements.\n",
    "2. An iterable is an object, obj, that produces an iterator via the syntax iter(obj)."
   ]
  },
  {
   "cell_type": "code",
   "execution_count": 4,
   "metadata": {},
   "outputs": [
    {
     "name": "stdout",
     "output_type": "stream",
     "text": [
      "<class 'list_iterator'>\n"
     ]
    },
    {
     "data": {
      "text/plain": [
       "1"
      ]
     },
     "execution_count": 4,
     "metadata": {},
     "output_type": "execute_result"
    }
   ],
   "source": [
    "data = [1,2,3,4]\n",
    "it = iter(data)\n",
    "print(type(it))\n",
    "next(it)\n",
    "#here 'data' is an iterable and it is an iterator"
   ]
  },
  {
   "cell_type": "code",
   "execution_count": 2,
   "metadata": {},
   "outputs": [
    {
     "name": "stdout",
     "output_type": "stream",
     "text": [
      "<class 'dict_keys'>\n"
     ]
    },
    {
     "data": {
      "text/plain": [
       "dict_keyiterator"
      ]
     },
     "execution_count": 2,
     "metadata": {},
     "output_type": "execute_result"
    }
   ],
   "source": [
    "data = {'name':'raj','sub':'comp','id':10}\n",
    "print(type(data.keys()))\n",
    "k = iter(data.keys())\n",
    "type(k)\n"
   ]
  },
  {
   "cell_type": "code",
   "execution_count": 3,
   "metadata": {},
   "outputs": [
    {
     "name": "stdout",
     "output_type": "stream",
     "text": [
      "<class 'int'>\n",
      "<class 'int'>\n",
      "<class 'int'>\n",
      "<class 'int'>\n",
      "<class 'int'>\n"
     ]
    },
    {
     "data": {
      "text/plain": [
       "range_iterator"
      ]
     },
     "execution_count": 3,
     "metadata": {},
     "output_type": "execute_result"
    }
   ],
   "source": [
    "for x in range(5):\n",
    "    print(type(x))\n",
    "type(iter(range(100)))"
   ]
  },
  {
   "cell_type": "markdown",
   "metadata": {},
   "source": [
    "## Generator\n",
    "\n",
    "to create iterators "
   ]
  },
  {
   "cell_type": "code",
   "execution_count": 4,
   "metadata": {},
   "outputs": [
    {
     "data": {
      "text/plain": [
       "3"
      ]
     },
     "execution_count": 4,
     "metadata": {},
     "output_type": "execute_result"
    }
   ],
   "source": [
    "7//2"
   ]
  },
  {
   "cell_type": "code",
   "execution_count": 5,
   "metadata": {},
   "outputs": [],
   "source": [
    "#generator - Lazy evaluation - Series of value created when requested\n",
    "def factors(n):\n",
    "    k = 1\n",
    "    while k*k < n:\n",
    "        if n%k == 0:\n",
    "            yield k\n",
    "            yield n//k\n",
    "        k += 1\n",
    "    if k*k == n:\n",
    "        yield k"
   ]
  },
  {
   "cell_type": "code",
   "execution_count": 6,
   "metadata": {},
   "outputs": [
    {
     "name": "stdout",
     "output_type": "stream",
     "text": [
      "1 is a factor.\n",
      "iteration in loop:  1\n",
      "100 is a factor.\n",
      "iteration in loop:  2\n",
      "2 is a factor.\n",
      "iteration in loop:  3\n",
      "50 is a factor.\n",
      "iteration in loop:  4\n",
      "4 is a factor.\n",
      "iteration in loop:  5\n",
      "25 is a factor.\n",
      "iteration in loop:  6\n",
      "5 is a factor.\n",
      "iteration in loop:  7\n",
      "20 is a factor.\n",
      "iteration in loop:  8\n",
      "10 is a factor.\n",
      "iteration in loop:  9\n"
     ]
    }
   ],
   "source": [
    "i = 1\n",
    "for f in factors(100):\n",
    "    print(f'{f} is a factor.')\n",
    "    print('iteration in loop: ',i)\n",
    "    i += 1\n"
   ]
  },
  {
   "cell_type": "code",
   "execution_count": 7,
   "metadata": {},
   "outputs": [
    {
     "data": {
      "text/plain": [
       "[1, 24, 2, 12, 3, 8, 4, 6]"
      ]
     },
     "execution_count": 7,
     "metadata": {},
     "output_type": "execute_result"
    }
   ],
   "source": [
    "l_f = list(factors(24))\n",
    "l_f"
   ]
  },
  {
   "cell_type": "code",
   "execution_count": 8,
   "metadata": {},
   "outputs": [],
   "source": [
    "#fibonacci using generator - Lazy ivaluation\n",
    "def fibonacci():\n",
    "    a,b = range(2)\n",
    "    while True:\n",
    "        yield a\n",
    "        future = a + b\n",
    "        a = b\n",
    "        b = future"
   ]
  },
  {
   "cell_type": "code",
   "execution_count": 9,
   "metadata": {},
   "outputs": [
    {
     "name": "stdout",
     "output_type": "stream",
     "text": [
      "0\n",
      "1\n",
      "1\n",
      "2\n",
      "3\n",
      "5\n",
      "8\n",
      "13\n",
      "21\n"
     ]
    }
   ],
   "source": [
    "i = 1\n",
    "for f in fibonacci():\n",
    "    print(f)\n",
    "    i+=1\n",
    "    if i == 10:\n",
    "        break"
   ]
  },
  {
   "cell_type": "code",
   "execution_count": 4,
   "metadata": {},
   "outputs": [
    {
     "name": "stdout",
     "output_type": "stream",
     "text": [
      "anolecrab bulc llabtoof"
     ]
    }
   ],
   "source": [
    "st = 'football club barcelona'\n",
    "\n",
    "#st[::-1]\n",
    "\n",
    "l = len(st)\n",
    "i  = l -1\n",
    "while i>=0:\n",
    "    print(st[i],end=\"\")\n",
    "    i -= 1"
   ]
  },
  {
   "cell_type": "code",
   "execution_count": 7,
   "metadata": {},
   "outputs": [
    {
     "data": {
      "text/plain": [
       "2"
      ]
     },
     "execution_count": 7,
     "metadata": {},
     "output_type": "execute_result"
    }
   ],
   "source": [
    "nums = [-2,1,-3,4,-1,2,1,-5,4]\n",
    "\n",
    "length = len(nums)\n",
    "\n",
    "sum(nums[5:6])\n",
    "\n"
   ]
  },
  {
   "cell_type": "code",
   "execution_count": 5,
   "metadata": {},
   "outputs": [
    {
     "data": {
      "text/plain": [
       "-1"
      ]
     },
     "execution_count": 5,
     "metadata": {},
     "output_type": "execute_result"
    }
   ],
   "source": [
    "sum([-1])"
   ]
  },
  {
   "cell_type": "code",
   "execution_count": null,
   "metadata": {},
   "outputs": [],
   "source": [
    "class Solution:\n",
    "    def maxSubArray(self, nums: List[int]) -> int:\n",
    "        max_subarray = -math.inf\n",
    "        for i in range(len(nums)):\n",
    "            current_subarray = 0\n",
    "            for j in range(i, len(nums)):\n",
    "                current_subarray += nums[j]\n",
    "                max_subarray = max(max_subarray, current_subarray)\n",
    "        \n",
    "        return max_subarray"
   ]
  },
  {
   "cell_type": "code",
   "execution_count": 9,
   "metadata": {},
   "outputs": [
    {
     "name": "stdout",
     "output_type": "stream",
     "text": [
      "current array element: 1\n",
      "current_subarray: 1\n",
      "max_subarray: 1\n",
      "current array element: -3\n",
      "current_subarray: -2\n",
      "max_subarray: 1\n",
      "current array element: 4\n",
      "current_subarray: 4\n",
      "max_subarray: 4\n",
      "current array element: -1\n",
      "current_subarray: 3\n",
      "max_subarray: 4\n",
      "current array element: 2\n",
      "current_subarray: 5\n",
      "max_subarray: 5\n",
      "current array element: 1\n",
      "current_subarray: 6\n",
      "max_subarray: 6\n",
      "current array element: -5\n",
      "current_subarray: 1\n",
      "max_subarray: 6\n",
      "current array element: 4\n",
      "current_subarray: 5\n",
      "max_subarray: 6\n"
     ]
    }
   ],
   "source": [
    "nums = [-2,1,-3,4,-1,2,1,-5,4]\n",
    "\n",
    "current_subarray = max_subarray = nums[0]\n",
    "\n",
    "# Start with the 2nd element since we already used the first one.\n",
    "for num in nums[1:]:\n",
    "    # If current_subarray is negative, throw it away. Otherwise, keep adding to it.\n",
    "    print(f'current array element: {num}')\n",
    "    current_subarray = max(num, current_subarray + num)\n",
    "    print(f'current_subarray: {current_subarray}')\n",
    "    max_subarray = max(max_subarray, current_subarray)\n",
    "    print(f'max_subarray: {max_subarray}')"
   ]
  },
  {
   "cell_type": "code",
   "execution_count": null,
   "metadata": {},
   "outputs": [],
   "source": [
    "steps = int(input())\n",
    "res = []\n",
    "for n in range(steps):\n",
    "    a, b = map(int,input().split(' '))\n",
    "    step_count = 0\n",
    "    if a>b:\n",
    "        while a != b:\n",
    "            b += 1\n",
    "            step_count += 1\n",
    "        print(step_count)\n",
    "    elif a<b:\n",
    "        diff = b-a\n",
    "        while a != b:\n",
    "            if step_count == 0:\n",
    "                a = a|diff\n",
    "                step_count += 1\n",
    "            else:\n",
    "                a += 1\n",
    "                step_count += 1\n",
    "        print(step_count)\n",
    "    else:\n",
    "        print(step_count)"
   ]
  },
  {
   "cell_type": "code",
   "execution_count": 10,
   "metadata": {},
   "outputs": [
    {
     "data": {
      "text/plain": [
       "17"
      ]
     },
     "execution_count": 10,
     "metadata": {},
     "output_type": "execute_result"
    }
   ],
   "source": [
    "17|17"
   ]
  },
  {
   "cell_type": "code",
   "execution_count": 11,
   "metadata": {},
   "outputs": [
    {
     "data": {
      "text/plain": [
       "31"
      ]
     },
     "execution_count": 11,
     "metadata": {},
     "output_type": "execute_result"
    }
   ],
   "source": [
    "23|8"
   ]
  },
  {
   "cell_type": "code",
   "execution_count": 12,
   "metadata": {},
   "outputs": [
    {
     "data": {
      "text/plain": [
       "2"
      ]
     },
     "execution_count": 12,
     "metadata": {},
     "output_type": "execute_result"
    }
   ],
   "source": [
    "import math\n",
    "math.gcd(16,2)"
   ]
  },
  {
   "cell_type": "code",
   "execution_count": 27,
   "metadata": {},
   "outputs": [
    {
     "name": "stdout",
     "output_type": "stream",
     "text": [
      "83937\n",
      "0\n",
      "2\n"
     ]
    }
   ],
   "source": [
    "import numpy as np\n",
    "x = 345677778989806580404868887978466454555454\n",
    "arr = np.array([int(i) for i in str(x)])\n",
    "print(np.sum(arr**4))\n",
    "print(np.prod(arr))\n",
    "print(np.gcd(16,2))"
   ]
  },
  {
   "cell_type": "code",
   "execution_count": 26,
   "metadata": {},
   "outputs": [
    {
     "name": "stdout",
     "output_type": "stream",
     "text": [
      "1\n",
      "43\n"
     ]
    }
   ],
   "source": [
    "import numpy as np\n",
    "import math\n",
    "\n",
    "\n",
    "t = int(input())\n",
    "\n",
    "for i in range(t):\n",
    "    special_c = 0\n",
    "    num = int(input())\n",
    "    for n in range(num):\n",
    "        x = n + 1\n",
    "        arr = np.array([int(j) for j in str(x)])\n",
    "        sqp = np.sum(arr**4)\n",
    "        mul = np.prod(arr)\n",
    "        _gcd = math.gcd(sqp,mul)\n",
    "        if _gcd > 1:\n",
    "            special_c += 1\n",
    "    print(special_c)\n"
   ]
  },
  {
   "cell_type": "code",
   "execution_count": 25,
   "metadata": {},
   "outputs": [
    {
     "name": "stdout",
     "output_type": "stream",
     "text": [
      "1\n",
      "43\n"
     ]
    }
   ],
   "source": [
    "t = int(input())\n",
    "for i in range(t):\n",
    "    special_c = 0\n",
    "    num = int(input())\n",
    "    for n in range(num):\n",
    "        x = n + 1\n",
    "        sqp = 0\n",
    "        mul = 1\n",
    "        while x != 0:\n",
    "            #arr = np.array([int(j) for j in str(x)])\n",
    "            sqp += (x%10)**4\n",
    "            mul *= (x%10)\n",
    "            x = x//10\n",
    "        _gcd = np.gcd(sqp,mul)\n",
    "        if _gcd > 1:\n",
    "            special_c += 1\n",
    "    print(special_c)"
   ]
  },
  {
   "cell_type": "code",
   "execution_count": 30,
   "metadata": {},
   "outputs": [
    {
     "data": {
      "text/plain": [
       "6"
      ]
     },
     "execution_count": 30,
     "metadata": {},
     "output_type": "execute_result"
    }
   ],
   "source": [
    "math.gcd(6)"
   ]
  },
  {
   "cell_type": "code",
   "execution_count": 2,
   "metadata": {},
   "outputs": [],
   "source": [
    "# Python3 implementation\n",
    "# To store all increasing subsequence of the given list\n",
    "st = []\n",
    "\n",
    "# Method to find increasing subsequence\n",
    "def find(inp, out) :\n",
    "\tif len(inp)== 0 :\n",
    "\t\tif len(out) != 0 :\n",
    "\t\t\t# storing result\n",
    "\t\t\tif out not in st:\n",
    "\t\t\t\tst.append(out)\n",
    "\t\treturn\n",
    "\n",
    "\t# excluding 1st element\n",
    "\tfind(inp[1:], out[:])\n",
    "\n",
    "\t# including first element\n",
    "\t# checking the condition\n",
    "\t# for increasing subsequence\n",
    "\tif len(out)== 0:\n",
    "\t\tfind(inp[1:], inp[:1])\n",
    "\telif inp[0] > out[-1] :\n",
    "\t\tout.append(inp[0])\n",
    "\t\tfind(inp[1:], out[:])\n",
    "\n",
    "# The input list\n",
    "\n"
   ]
  },
  {
   "cell_type": "code",
   "execution_count": 3,
   "metadata": {},
   "outputs": [
    {
     "name": "stdout",
     "output_type": "stream",
     "text": [
      "[3]\n",
      "[4]\n",
      "subsequences are :  [[3]]\n"
     ]
    }
   ],
   "source": [
    "T = int(input('The number of test case: '))\n",
    "\n",
    "ip_N = []\n",
    "ip_arr1 = []\n",
    "ip_arr2 = []\n",
    "\n",
    "for i in range(T):\n",
    "    N = input('Array size: ')\n",
    "    arr1 = list(map(int,input().split(' ')))\n",
    "    arr2 = list(map(int,input().split(' ')))\n",
    "    ip_N.append(N)\n",
    "    ip_arr1.append(arr1)\n",
    "    ip_arr2.append(arr2)\n",
    "\n",
    "\n",
    "for i in range(T):\n",
    "    N = ip_N[i]\n",
    "    arr1 = ip_arr1[i]\n",
    "    arr2 = ip_arr2[i]\n",
    "    print(arr1)\n",
    "    print(arr2)\n",
    "\n",
    "    st = []\n",
    "    op1 = []\n",
    "\n",
    "    find(arr1, op1)\n",
    "    print('subsequences are : ',st)"
   ]
  },
  {
   "cell_type": "code",
   "execution_count": null,
   "metadata": {},
   "outputs": [],
   "source": []
  },
  {
   "cell_type": "code",
   "execution_count": null,
   "metadata": {},
   "outputs": [],
   "source": []
  },
  {
   "cell_type": "code",
   "execution_count": null,
   "metadata": {},
   "outputs": [],
   "source": []
  },
  {
   "cell_type": "code",
   "execution_count": 9,
   "metadata": {},
   "outputs": [
    {
     "name": "stdout",
     "output_type": "stream",
     "text": [
      "{'raj': 3, ('name', 'age'): ('ravi', 22)}\n"
     ]
    }
   ],
   "source": [
    "d = {}\n",
    "d['raj'] = 3\n",
    "\n",
    "comp_key = 'name','age'\n",
    "\n",
    "d[comp_key] = 'ravi',22\n",
    "\n",
    "print(d)\n",
    "\n",
    "x,y,z = 1,2,3"
   ]
  },
  {
   "cell_type": "code",
   "execution_count": 10,
   "metadata": {},
   "outputs": [
    {
     "data": {
      "text/plain": [
       "'ravi'"
      ]
     },
     "execution_count": 10,
     "metadata": {},
     "output_type": "execute_result"
    }
   ],
   "source": [
    "d[('name', 'age')]"
   ]
  },
  {
   "cell_type": "code",
   "execution_count": 11,
   "metadata": {},
   "outputs": [
    {
     "data": {
      "text/plain": [
       "{'raj': 3, ('name', 'age'): ('ravi', 22)}"
      ]
     },
     "execution_count": 11,
     "metadata": {},
     "output_type": "execute_result"
    }
   ],
   "source": [
    "d"
   ]
  },
  {
   "cell_type": "code",
   "execution_count": 12,
   "metadata": {},
   "outputs": [
    {
     "ename": "TypeError",
     "evalue": "unhashable type: 'dict'",
     "output_type": "error",
     "traceback": [
      "\u001b[1;31m---------------------------------------------------------------------------\u001b[0m",
      "\u001b[1;31mTypeError\u001b[0m                                 Traceback (most recent call last)",
      "\u001b[1;32m<ipython-input-12-d9547d57bf8f>\u001b[0m in \u001b[0;36m<module>\u001b[1;34m\u001b[0m\n\u001b[0;32m      1\u001b[0m \u001b[0mnew_d\u001b[0m \u001b[1;33m=\u001b[0m \u001b[1;33m{\u001b[0m\u001b[1;33m}\u001b[0m\u001b[1;33m\u001b[0m\u001b[1;33m\u001b[0m\u001b[0m\n\u001b[1;32m----> 2\u001b[1;33m \u001b[0mnew_d\u001b[0m\u001b[1;33m[\u001b[0m\u001b[0md\u001b[0m\u001b[1;33m]\u001b[0m \u001b[1;33m=\u001b[0m \u001b[1;36m4\u001b[0m\u001b[1;33m\u001b[0m\u001b[1;33m\u001b[0m\u001b[0m\n\u001b[0m",
      "\u001b[1;31mTypeError\u001b[0m: unhashable type: 'dict'"
     ]
    }
   ],
   "source": [
    "new_d = {}\n",
    "new_d[d] = 4"
   ]
  },
  {
   "cell_type": "code",
   "execution_count": 2,
   "metadata": {},
   "outputs": [
    {
     "data": {
      "text/plain": [
       "4.888888888888889"
      ]
     },
     "execution_count": 2,
     "metadata": {},
     "output_type": "execute_result"
    }
   ],
   "source": [
    "s = '#For a given sentence, return the average word length.'\n",
    "\n",
    "words = s.split()\n",
    "lengths = []\n",
    "\n",
    "special_c = ['.','#','.']\n",
    "\n",
    "for w in words:\n",
    "    token = [x for x in w if x not in special_c]\n",
    "    lengths.append(len(token))\n",
    "\n",
    "sum(lengths)/len(lengths)"
   ]
  },
  {
   "cell_type": "code",
   "execution_count": null,
   "metadata": {},
   "outputs": [],
   "source": [
    "import re\n",
    "pattern = re.compile(r'[F.*]e[]')"
   ]
  },
  {
   "cell_type": "code",
   "execution_count": 4,
   "metadata": {},
   "outputs": [
    {
     "name": "stdout",
     "output_type": "stream",
     "text": [
      "3\n"
     ]
    }
   ],
   "source": [
    "a = [2, 2, 3, 3, 3, 3, 3, 3, 4, 5, 5, 7, 7]\n",
    "\n",
    "hash_map = {}\n",
    "for i in a:\n",
    "    hash_map[i] = hash_map.get(i,0) + 1\n",
    "\n",
    "ret_elem = max_sum = a[0]\n",
    "for k,v in hash_map.items():\n",
    "    if k*v >= max_sum:\n",
    "        ret_elem = k\n",
    "        max_sum = k*v\n",
    "\n",
    "print(ret_elem) "
   ]
  },
  {
   "cell_type": "code",
   "execution_count": null,
   "metadata": {},
   "outputs": [],
   "source": []
  }
 ],
 "metadata": {
  "interpreter": {
   "hash": "8405b5aaee59f950f19348c5cbf8bba2474e47f467f17570202151446fcba8bf"
  },
  "kernelspec": {
   "display_name": "Python 3.9.4 64-bit ('python_39': conda)",
   "language": "python",
   "name": "python3"
  },
  "language_info": {
   "codemirror_mode": {
    "name": "ipython",
    "version": 3
   },
   "file_extension": ".py",
   "mimetype": "text/x-python",
   "name": "python",
   "nbconvert_exporter": "python",
   "pygments_lexer": "ipython3",
   "version": "3.9.4"
  },
  "orig_nbformat": 4
 },
 "nbformat": 4,
 "nbformat_minor": 2
}
