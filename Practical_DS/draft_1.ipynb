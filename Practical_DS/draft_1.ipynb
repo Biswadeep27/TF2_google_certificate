{
 "cells": [
  {
   "cell_type": "markdown",
   "metadata": {},
   "source": [
    "## Iterator"
   ]
  },
  {
   "cell_type": "markdown",
   "metadata": {},
   "source": [
    "1. An iterator is an object that manages an iteration through a series of values. If\n",
    "variable, i, identifies an iterator object, then each call to the built-in function,\n",
    "next(i), produces a subsequent element from the underlying series, with a\n",
    "StopIteration exception raised to indicate that there are no further elements.\n",
    "2. An iterable is an object, obj, that produces an iterator via the syntax iter(obj)."
   ]
  },
  {
   "cell_type": "code",
   "execution_count": 7,
   "metadata": {},
   "outputs": [
    {
     "data": {
      "text/plain": [
       "1"
      ]
     },
     "execution_count": 7,
     "metadata": {},
     "output_type": "execute_result"
    }
   ],
   "source": [
    "data = [1,2,3,4]\n",
    "it = iter(data)\n",
    "type(it)\n",
    "next(it)"
   ]
  },
  {
   "cell_type": "code",
   "execution_count": 13,
   "metadata": {},
   "outputs": [
    {
     "name": "stdout",
     "output_type": "stream",
     "text": [
      "<class 'dict_keys'>\n"
     ]
    },
    {
     "data": {
      "text/plain": [
       "dict_keyiterator"
      ]
     },
     "execution_count": 13,
     "metadata": {},
     "output_type": "execute_result"
    }
   ],
   "source": [
    "data = {'name':'raj','sub':'comp','id':10}\n",
    "print(type(data.keys()))\n",
    "k = iter(data.keys())\n",
    "type(k)\n"
   ]
  },
  {
   "cell_type": "code",
   "execution_count": 12,
   "metadata": {},
   "outputs": [
    {
     "name": "stdout",
     "output_type": "stream",
     "text": [
      "<class 'int'>\n",
      "<class 'int'>\n",
      "<class 'int'>\n",
      "<class 'int'>\n",
      "<class 'int'>\n"
     ]
    },
    {
     "data": {
      "text/plain": [
       "range_iterator"
      ]
     },
     "execution_count": 12,
     "metadata": {},
     "output_type": "execute_result"
    }
   ],
   "source": [
    "for x in range(5):\n",
    "    print(type(x))\n",
    "type(iter(range(100)))"
   ]
  },
  {
   "cell_type": "markdown",
   "metadata": {},
   "source": [
    "## Generator\n",
    "\n",
    "to create iterstors "
   ]
  },
  {
   "cell_type": "code",
   "execution_count": 14,
   "metadata": {},
   "outputs": [
    {
     "data": {
      "text/plain": [
       "3"
      ]
     },
     "execution_count": 14,
     "metadata": {},
     "output_type": "execute_result"
    }
   ],
   "source": [
    "7//2"
   ]
  },
  {
   "cell_type": "code",
   "execution_count": 18,
   "metadata": {},
   "outputs": [],
   "source": [
    "#generator - Lazy evaluation - Series of value created when requested\n",
    "def factors(n):\n",
    "    k = 1\n",
    "    while k*k < n:\n",
    "        if n%k == 0:\n",
    "            yield k\n",
    "            yield n//k\n",
    "        k += 1\n",
    "    if k*k == n:\n",
    "        yield k"
   ]
  },
  {
   "cell_type": "code",
   "execution_count": 22,
   "metadata": {},
   "outputs": [
    {
     "name": "stdout",
     "output_type": "stream",
     "text": [
      "1 is a factor.\n",
      "iteration in loop:  1\n",
      "100 is a factor.\n",
      "iteration in loop:  2\n",
      "2 is a factor.\n",
      "iteration in loop:  3\n",
      "50 is a factor.\n",
      "iteration in loop:  4\n",
      "4 is a factor.\n",
      "iteration in loop:  5\n",
      "25 is a factor.\n",
      "iteration in loop:  6\n",
      "5 is a factor.\n",
      "iteration in loop:  7\n",
      "20 is a factor.\n",
      "iteration in loop:  8\n",
      "10 is a factor.\n",
      "iteration in loop:  9\n"
     ]
    }
   ],
   "source": [
    "i = 1\n",
    "for f in factors(100):\n",
    "    print(f'{f} is a factor.')\n",
    "    print('iteration in loop: ',i)\n",
    "    i += 1\n"
   ]
  },
  {
   "cell_type": "code",
   "execution_count": 24,
   "metadata": {},
   "outputs": [
    {
     "data": {
      "text/plain": [
       "[1, 24, 2, 12, 3, 8, 4, 6]"
      ]
     },
     "execution_count": 24,
     "metadata": {},
     "output_type": "execute_result"
    }
   ],
   "source": [
    "l_f = list(factors(24))\n",
    "l_f"
   ]
  },
  {
   "cell_type": "code",
   "execution_count": 27,
   "metadata": {},
   "outputs": [],
   "source": [
    "#fibonacci using generator - Lazy ivaluation\n",
    "def fibonacci():\n",
    "    a,b = range(2)\n",
    "    while True:\n",
    "        yield a\n",
    "        future = a + b\n",
    "        a = b\n",
    "        b = future"
   ]
  },
  {
   "cell_type": "code",
   "execution_count": null,
   "metadata": {},
   "outputs": [
    {
     "name": "stdout",
     "output_type": "stream",
     "text": [
      "0\n",
      "1\n"
     ]
    }
   ],
   "source": [
    "i = 1\n",
    "for f in fibonacci():\n",
    "    print(f)\n",
    "    i+=1\n",
    "    if i == 10:\n",
    "        break"
   ]
  },
  {
   "cell_type": "code",
   "execution_count": null,
   "metadata": {},
   "outputs": [],
   "source": []
  }
 ],
 "metadata": {
  "interpreter": {
   "hash": "8405b5aaee59f950f19348c5cbf8bba2474e47f467f17570202151446fcba8bf"
  },
  "kernelspec": {
   "display_name": "Python 3.9.4 64-bit ('python_39': conda)",
   "language": "python",
   "name": "python3"
  },
  "language_info": {
   "codemirror_mode": {
    "name": "ipython",
    "version": 3
   },
   "file_extension": ".py",
   "mimetype": "text/x-python",
   "name": "python",
   "nbconvert_exporter": "python",
   "pygments_lexer": "ipython3",
   "version": "3.9.4"
  },
  "orig_nbformat": 4
 },
 "nbformat": 4,
 "nbformat_minor": 2
}
